{
 "cells": [
  {
   "cell_type": "markdown",
   "metadata": {},
   "source": [
    "## Some folium experiments\n",
    "\n",
    "Images in folium popups: hard to do, but using html popups the images **do** show in the resulting Leaflet map. They do not show in Jupyter displays though.\n",
    "\n",
    "plugin examples here\n",
    "https://nbviewer.jupyter.org/github/python-visualization/folium/blob/master/examples/Plugins.ipynb"
   ]
  },
  {
   "cell_type": "code",
   "execution_count": 2,
   "metadata": {},
   "outputs": [
    {
     "name": "stdout",
     "output_type": "stream",
     "text": [
      "folium 0.8.2; pandas 0.24.1; numpy 1.16.2\n"
     ]
    }
   ],
   "source": [
    "import os\n",
    "import pandas as pd\n",
    "import numpy as np\n",
    "import folium\n",
    "from folium import plugins\n",
    "print('folium '+folium.__version__+'; pandas '+pd.__version__+'; numpy '+np.__version__)"
   ]
  },
  {
   "cell_type": "code",
   "execution_count": 4,
   "metadata": {},
   "outputs": [],
   "source": [
    "m = folium.Map([43,-100], zoom_start=4)\n",
    "\n",
    "html=\"\"\"\n",
    "    <h1> This is a big popup</h1><br>\n",
    "    With a few lines of code...\n",
    "    <img src=\"mpld3_42.png\">\n",
    "    <p>\n",
    "    <code>\n",
    "        from numpy import *<br>\n",
    "        exp(-2*pi)\n",
    "    </code>\n",
    "    </p>\n",
    "    \"\"\"\n",
    "# iframe = folium.IFrame(html=html, width=500, height=300) not needed apparently\n",
    "popup = folium.Popup(html, max_width=2650)\n",
    "\n",
    "folium.Marker([30,-100], popup=popup).add_to(m)\n",
    "\n",
    "m.save('foliumtest.html')"
   ]
  }
 ],
 "metadata": {
  "kernelspec": {
   "display_name": "Python 3",
   "language": "python",
   "name": "python3"
  },
  "language_info": {
   "codemirror_mode": {
    "name": "ipython",
    "version": 3
   },
   "file_extension": ".py",
   "mimetype": "text/x-python",
   "name": "python",
   "nbconvert_exporter": "python",
   "pygments_lexer": "ipython3",
   "version": "3.5.2"
  }
 },
 "nbformat": 4,
 "nbformat_minor": 2
}
