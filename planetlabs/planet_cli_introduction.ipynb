{
 "cells": [
  {
   "cell_type": "markdown",
   "metadata": {},
   "source": [
    "# Planet API Python Client\n"
   ]
  },
  {
   "cell_type": "markdown",
   "metadata": {},
   "source": [
    "This tutorial is an introduction to [Planet](https://www.planet.com)'s Data API using the official [Python client](https://github.com/planetlabs/planet-client-python), the `planet` module.\n",
    "\n",
    "## Requirements\n",
    "\n",
    "This tutorial assumes familiarity with the [Python](https://python.org) programming language throughout. Python modules used in this tutorial are:\n",
    "* [IPython](https://ipython.org/) and [Jupyter](https://jupyter.org/)\n",
    "* [planet](https://github.com/planetlabs/planet-client-python)\n",
    "* [geojsonio](https://pypi.python.org/pypi/geojsonio)\n",
    "\n",
    "You should also have an account on the Planet Platform and retrieve your API key from your [account page](https://www.planet.com/account/).\n",
    "\n",
    "## Useful links \n",
    "* [Documentation](https://planetlabs.github.io/planet-client-python/index.html)\n",
    "* [Planet Data API reference](https://www.planet.com/docs/reference/data-api/)"
   ]
  },
  {
   "cell_type": "markdown",
   "metadata": {},
   "source": [
    "This tutorial will cover the basic operations possible with the Python client, particularly those that interact with the Data API."
   ]
  },
  {
   "cell_type": "markdown",
   "metadata": {},
   "source": [
    "The basic workflow for interacting with the Data API is:\n",
    "1. search item types based on filters\n",
    "1. activate assets\n",
    "1. download assets"
   ]
  },
  {
   "cell_type": "markdown",
   "metadata": {},
   "source": [
    "## Set up\n",
    "\n",
    "In order to interact with the Planet API using the client, we need to import `planet.api`."
   ]
  },
  {
   "cell_type": "code",
   "execution_count": 1,
   "metadata": {},
   "outputs": [
    {
     "name": "stdout",
     "output_type": "stream",
     "text": [
      "Collecting planet\n",
      "\u001b[?25l  Downloading https://files.pythonhosted.org/packages/ab/d2/889c08c19ea6f6111c7ccbdfd072e0cdad928d53fa35701e2c64f2d051a1/planet-1.2.2-py2.py3-none-any.whl (49kB)\n",
      "\u001b[K    100% |████████████████████████████████| 51kB 9.2MB/s eta 0:00:01\n",
      "\u001b[?25hRequirement already satisfied: click in /home/pdonovan/notebooks/venvj/lib/python3.5/site-packages (from planet) (5.1)\n",
      "Collecting requests-futures (from planet)\n",
      "  Downloading https://files.pythonhosted.org/packages/e5/6b/c29ba0ce8d7d981c8099550148755846476c551f9e413801c0981f63ea91/requests-futures-0.9.9.tar.gz\n",
      "Requirement already satisfied: requests in /home/pdonovan/notebooks/venvj/lib/python3.5/site-packages (from planet) (2.21.0)\n",
      "Requirement already satisfied: chardet<3.1.0,>=3.0.2 in /home/pdonovan/notebooks/venvj/lib/python3.5/site-packages (from requests->planet) (3.0.4)\n",
      "Requirement already satisfied: idna<2.9,>=2.5 in /home/pdonovan/notebooks/venvj/lib/python3.5/site-packages (from requests->planet) (2.8)\n",
      "Requirement already satisfied: urllib3<1.25,>=1.21.1 in /home/pdonovan/notebooks/venvj/lib/python3.5/site-packages (from requests->planet) (1.24.1)\n",
      "Requirement already satisfied: certifi>=2017.4.17 in /home/pdonovan/notebooks/venvj/lib/python3.5/site-packages (from requests->planet) (2018.11.29)\n",
      "Installing collected packages: requests-futures, planet\n",
      "  Running setup.py install for requests-futures ... \u001b[?25ldone\n",
      "\u001b[?25hSuccessfully installed planet-1.2.2 requests-futures-0.9.9\n"
     ]
    }
   ],
   "source": [
    "!pip install planet"
   ]
  },
  {
   "cell_type": "code",
   "execution_count": 2,
   "metadata": {},
   "outputs": [],
   "source": [
    "from planet import api"
   ]
  },
  {
   "cell_type": "markdown",
   "metadata": {},
   "source": [
    "We next need to create a `ClientV1` object registered with our API key. The API key will be automatically read from the `PL_API_KEY` environment variable if it exists. If not it can be provided when creating the `api` object."
   ]
  },
  {
   "cell_type": "code",
   "execution_count": 3,
   "metadata": {},
   "outputs": [
    {
     "name": "stdout",
     "output_type": "stream",
     "text": [
      "0eb8cb876bdf4a9da31fef340ee083d6\n"
     ]
    }
   ],
   "source": [
    "client = api.ClientV1(api_key=\"0eb8cb876bdf4a9da31fef340ee083d6\")\n",
    "\n",
    "print(client.auth.value)"
   ]
  },
  {
   "cell_type": "markdown",
   "metadata": {},
   "source": [
    "`ClientV1` provides basic low-level access to Planet’s API. Only one `ClientV1` should be in existence for an application. The client is thread safe and takes care to avoid API throttling and also retries any throttled requests. Any exceptional HTTP responses are handled by translation to one of the `planet.api.exceptions` classes."
   ]
  },
  {
   "cell_type": "markdown",
   "metadata": {},
   "source": [
    "We will also create a small helper function to print out JSON with proper indentation."
   ]
  },
  {
   "cell_type": "code",
   "execution_count": 4,
   "metadata": {},
   "outputs": [],
   "source": [
    "import json\n",
    "\n",
    "def p(data):\n",
    "    print(json.dumps(data, indent=2))"
   ]
  },
  {
   "cell_type": "markdown",
   "metadata": {},
   "source": [
    "Let's also read in a GeoJSON geometry into a variable so we can use it during testing."
   ]
  },
  {
   "cell_type": "code",
   "execution_count": 5,
   "metadata": {},
   "outputs": [
    {
     "ename": "FileNotFoundError",
     "evalue": "[Errno 2] No such file or directory: 'data/san-francisco.json'",
     "output_type": "error",
     "traceback": [
      "\u001b[0;31m---------------------------------------------------------------------------\u001b[0m",
      "\u001b[0;31mFileNotFoundError\u001b[0m                         Traceback (most recent call last)",
      "\u001b[0;32m<ipython-input-5-55d2213d49ea>\u001b[0m in \u001b[0;36m<module>\u001b[0;34m\u001b[0m\n\u001b[0;32m----> 1\u001b[0;31m \u001b[0;32mwith\u001b[0m \u001b[0mopen\u001b[0m\u001b[0;34m(\u001b[0m\u001b[0;34m\"data/san-francisco.json\"\u001b[0m\u001b[0;34m)\u001b[0m \u001b[0;32mas\u001b[0m \u001b[0mf\u001b[0m\u001b[0;34m:\u001b[0m\u001b[0;34m\u001b[0m\u001b[0m\n\u001b[0m\u001b[1;32m      2\u001b[0m     \u001b[0mgeom\u001b[0m \u001b[0;34m=\u001b[0m \u001b[0mjson\u001b[0m\u001b[0;34m.\u001b[0m\u001b[0mloads\u001b[0m\u001b[0;34m(\u001b[0m\u001b[0mf\u001b[0m\u001b[0;34m.\u001b[0m\u001b[0mread\u001b[0m\u001b[0;34m(\u001b[0m\u001b[0;34m)\u001b[0m\u001b[0;34m)\u001b[0m\u001b[0;34m\u001b[0m\u001b[0m\n",
      "\u001b[0;31mFileNotFoundError\u001b[0m: [Errno 2] No such file or directory: 'data/san-francisco.json'"
     ]
    }
   ],
   "source": [
    "with open(\"data/san-francisco.json\") as f:\n",
    "    geom = json.loads(f.read())"
   ]
  },
  {
   "cell_type": "markdown",
   "metadata": {},
   "source": [
    "## Searching\n",
    "\n",
    "We can search for items that are interesting by using the `quick_search` member function. Searches, however, always require a proper request that includes a filter that selects the specific items to return as seach results.\n",
    "\n",
    "### Filters\n",
    "\n",
    "The Planet Python client also includes `planet.api.filters` to assist in the creation of search filters."
   ]
  },
  {
   "cell_type": "code",
   "execution_count": 6,
   "metadata": {},
   "outputs": [],
   "source": [
    "from planet.api import filters"
   ]
  },
  {
   "cell_type": "markdown",
   "metadata": {},
   "source": [
    "The possible filters include `and_filter`, `date_filter`, `range_filter` and so on, mirroring the options supported by the Planet API.\n"
   ]
  },
  {
   "cell_type": "code",
   "execution_count": 7,
   "metadata": {},
   "outputs": [],
   "source": [
    "from datetime import datetime\n",
    "start_date = datetime(year=2017, month=1, day=1)\n",
    "\n",
    "date_filter = filters.date_range('acquired', gte=start_date)\n",
    "cloud_filter = filters.range_filter('cloud_cover', lte=0.1)"
   ]
  },
  {
   "cell_type": "code",
   "execution_count": 8,
   "metadata": {},
   "outputs": [],
   "source": [
    "and_filter = filters.and_filter(date_filter, cloud_filter)"
   ]
  },
  {
   "cell_type": "code",
   "execution_count": 9,
   "metadata": {},
   "outputs": [
    {
     "name": "stdout",
     "output_type": "stream",
     "text": [
      "{\n",
      "  \"type\": \"AndFilter\",\n",
      "  \"config\": [\n",
      "    {\n",
      "      \"type\": \"DateRangeFilter\",\n",
      "      \"field_name\": \"acquired\",\n",
      "      \"config\": {\n",
      "        \"gte\": \"2017-01-01T00:00:00Z\"\n",
      "      }\n",
      "    },\n",
      "    {\n",
      "      \"type\": \"RangeFilter\",\n",
      "      \"field_name\": \"cloud_cover\",\n",
      "      \"config\": {\n",
      "        \"lte\": 0.1\n",
      "      }\n",
      "    }\n",
      "  ]\n",
      "}\n"
     ]
    }
   ],
   "source": [
    "p(and_filter)"
   ]
  },
  {
   "cell_type": "markdown",
   "metadata": {},
   "source": [
    "In addition to the filter, a properly-constructed request also contains the list of item types that we want to select."
   ]
  },
  {
   "cell_type": "code",
   "execution_count": 10,
   "metadata": {},
   "outputs": [],
   "source": [
    "item_types = [\"REOrthoTile\", \"PSOrthoTile\"]\n",
    "req = filters.build_search_request(and_filter, item_types)"
   ]
  },
  {
   "cell_type": "code",
   "execution_count": 11,
   "metadata": {},
   "outputs": [
    {
     "name": "stdout",
     "output_type": "stream",
     "text": [
      "{\n",
      "  \"filter\": {\n",
      "    \"type\": \"AndFilter\",\n",
      "    \"config\": [\n",
      "      {\n",
      "        \"type\": \"DateRangeFilter\",\n",
      "        \"field_name\": \"acquired\",\n",
      "        \"config\": {\n",
      "          \"gte\": \"2017-01-01T00:00:00Z\"\n",
      "        }\n",
      "      },\n",
      "      {\n",
      "        \"type\": \"RangeFilter\",\n",
      "        \"field_name\": \"cloud_cover\",\n",
      "        \"config\": {\n",
      "          \"lte\": 0.1\n",
      "        }\n",
      "      }\n",
      "    ]\n",
      "  },\n",
      "  \"item_types\": [\n",
      "    \"REOrthoTile\",\n",
      "    \"PSOrthoTile\"\n",
      "  ]\n",
      "}\n"
     ]
    }
   ],
   "source": [
    "p(req)"
   ]
  },
  {
   "cell_type": "code",
   "execution_count": 12,
   "metadata": {},
   "outputs": [],
   "source": [
    "res = client.quick_search(req)"
   ]
  },
  {
   "cell_type": "markdown",
   "metadata": {},
   "source": [
    "The results of `quick_search` can be handled in different ways, but most commonly the user will either iterating through the list of items (`items_iter`) or writing items to a GeoJSON file (`json_encode`).\n",
    "\n",
    "In either case, the number of items must be specified."
   ]
  },
  {
   "cell_type": "code",
   "execution_count": 13,
   "metadata": {},
   "outputs": [
    {
     "name": "stdout",
     "output_type": "stream",
     "text": [
      "20190304_173417_1352512_RapidEye-2 REOrthoTile\n",
      "20190304_173418_1352510_RapidEye-2 REOrthoTile\n",
      "20190304_173419_1352509_RapidEye-2 REOrthoTile\n",
      "20190304_173442_1351810_RapidEye-2 REOrthoTile\n"
     ]
    }
   ],
   "source": [
    "for item in res.items_iter(4):\n",
    "    print(item['id'], item['properties']['item_type'])"
   ]
  },
  {
   "cell_type": "markdown",
   "metadata": {},
   "source": [
    "If the number of items requested is more than 250, the client will automatically fetch more pages of results in order to get the exact number requested."
   ]
  },
  {
   "cell_type": "code",
   "execution_count": 14,
   "metadata": {},
   "outputs": [
    {
     "ename": "FileNotFoundError",
     "evalue": "[Errno 2] No such file or directory: 'output/results.json'",
     "output_type": "error",
     "traceback": [
      "\u001b[0;31m---------------------------------------------------------------------------\u001b[0m",
      "\u001b[0;31mFileNotFoundError\u001b[0m                         Traceback (most recent call last)",
      "\u001b[0;32m<ipython-input-14-3008a78adb8b>\u001b[0m in \u001b[0;36m<module>\u001b[0;34m\u001b[0m\n\u001b[0;32m----> 1\u001b[0;31m \u001b[0;32mwith\u001b[0m \u001b[0mopen\u001b[0m\u001b[0;34m(\u001b[0m\u001b[0;34m'output/results.json'\u001b[0m\u001b[0;34m,\u001b[0m\u001b[0;34m'w'\u001b[0m\u001b[0;34m)\u001b[0m \u001b[0;32mas\u001b[0m \u001b[0mf\u001b[0m\u001b[0;34m:\u001b[0m\u001b[0;34m\u001b[0m\u001b[0m\n\u001b[0m\u001b[1;32m      2\u001b[0m     \u001b[0mres\u001b[0m\u001b[0;34m.\u001b[0m\u001b[0mjson_encode\u001b[0m\u001b[0;34m(\u001b[0m\u001b[0mf\u001b[0m\u001b[0;34m,\u001b[0m\u001b[0;36m1000\u001b[0m\u001b[0;34m)\u001b[0m\u001b[0;34m\u001b[0m\u001b[0m\n",
      "\u001b[0;31mFileNotFoundError\u001b[0m: [Errno 2] No such file or directory: 'output/results.json'"
     ]
    }
   ],
   "source": [
    "with open('output/results.json','w') as f:\n",
    "    res.json_encode(f,1000)"
   ]
  },
  {
   "cell_type": "markdown",
   "metadata": {},
   "source": [
    "This GeoJSON file can be opened and viewed in any compatible application."
   ]
  },
  {
   "cell_type": "markdown",
   "metadata": {
    "collapsed": true
   },
   "source": [
    "## Assets and downloads\n",
    "\n",
    "After a search returns results, the Python client can be used to check for assets and initiate downloads.\n",
    "\n",
    "The list of assets for an item can be retrieved with `get_assets` or `get_assets_by_id`."
   ]
  },
  {
   "cell_type": "code",
   "execution_count": 15,
   "metadata": {},
   "outputs": [
    {
     "name": "stdout",
     "output_type": "stream",
     "text": [
      "20190304_173442_1351810_RapidEye-2\n"
     ]
    }
   ],
   "source": [
    "print(item['id'])"
   ]
  },
  {
   "cell_type": "code",
   "execution_count": 16,
   "metadata": {},
   "outputs": [],
   "source": [
    "assets = client.get_assets(item).get()"
   ]
  },
  {
   "cell_type": "code",
   "execution_count": 17,
   "metadata": {},
   "outputs": [
    {
     "name": "stdout",
     "output_type": "stream",
     "text": [
      "analytic\n",
      "analytic_xml\n",
      "udm\n",
      "visual\n",
      "visual_xml\n"
     ]
    }
   ],
   "source": [
    "for asset in sorted(assets.keys()):\n",
    "    print(asset)"
   ]
  },
  {
   "cell_type": "code",
   "execution_count": 18,
   "metadata": {},
   "outputs": [
    {
     "ename": "OverQuota",
     "evalue": "{\"field\": {}, \"general\": [{\"message\": \"Download quota has been exceeded.\"}]}",
     "output_type": "error",
     "traceback": [
      "\u001b[0;31m---------------------------------------------------------------------------\u001b[0m",
      "\u001b[0;31mOverQuota\u001b[0m                                 Traceback (most recent call last)",
      "\u001b[0;32m<ipython-input-18-f68dd843d086>\u001b[0m in \u001b[0;36m<module>\u001b[0;34m\u001b[0m\n\u001b[0;32m----> 1\u001b[0;31m \u001b[0mactivation\u001b[0m \u001b[0;34m=\u001b[0m \u001b[0mclient\u001b[0m\u001b[0;34m.\u001b[0m\u001b[0mactivate\u001b[0m\u001b[0;34m(\u001b[0m\u001b[0massets\u001b[0m\u001b[0;34m[\u001b[0m\u001b[0;34m'analytic'\u001b[0m\u001b[0;34m]\u001b[0m\u001b[0;34m)\u001b[0m\u001b[0;34m\u001b[0m\u001b[0m\n\u001b[0m\u001b[1;32m      2\u001b[0m \u001b[0mactivation\u001b[0m\u001b[0;34m.\u001b[0m\u001b[0mresponse\u001b[0m\u001b[0;34m.\u001b[0m\u001b[0mstatus_code\u001b[0m\u001b[0;34m\u001b[0m\u001b[0m\n",
      "\u001b[0;32m~/notebooks/venvj/lib/python3.5/site-packages/planet/api/client.py\u001b[0m in \u001b[0;36mactivate\u001b[0;34m(self, asset)\u001b[0m\n\u001b[1;32m    234\u001b[0m         '''\n\u001b[1;32m    235\u001b[0m         \u001b[0mactivate_url\u001b[0m \u001b[0;34m=\u001b[0m \u001b[0masset\u001b[0m\u001b[0;34m[\u001b[0m\u001b[0;34m'_links'\u001b[0m\u001b[0;34m]\u001b[0m\u001b[0;34m[\u001b[0m\u001b[0;34m'activate'\u001b[0m\u001b[0;34m]\u001b[0m\u001b[0;34m\u001b[0m\u001b[0m\n\u001b[0;32m--> 236\u001b[0;31m         \u001b[0;32mreturn\u001b[0m \u001b[0mself\u001b[0m\u001b[0;34m.\u001b[0m\u001b[0m_get\u001b[0m\u001b[0;34m(\u001b[0m\u001b[0mactivate_url\u001b[0m\u001b[0;34m,\u001b[0m \u001b[0mbody_type\u001b[0m\u001b[0;34m=\u001b[0m\u001b[0mmodels\u001b[0m\u001b[0;34m.\u001b[0m\u001b[0mBody\u001b[0m\u001b[0;34m)\u001b[0m\u001b[0;34m.\u001b[0m\u001b[0mget_body\u001b[0m\u001b[0;34m(\u001b[0m\u001b[0;34m)\u001b[0m\u001b[0;34m\u001b[0m\u001b[0m\n\u001b[0m\u001b[1;32m    237\u001b[0m \u001b[0;34m\u001b[0m\u001b[0m\n\u001b[1;32m    238\u001b[0m     \u001b[0;32mdef\u001b[0m \u001b[0mdownload\u001b[0m\u001b[0;34m(\u001b[0m\u001b[0mself\u001b[0m\u001b[0;34m,\u001b[0m \u001b[0masset\u001b[0m\u001b[0;34m,\u001b[0m \u001b[0mcallback\u001b[0m\u001b[0;34m=\u001b[0m\u001b[0;32mNone\u001b[0m\u001b[0;34m)\u001b[0m\u001b[0;34m:\u001b[0m\u001b[0;34m\u001b[0m\u001b[0m\n",
      "\u001b[0;32m~/notebooks/venvj/lib/python3.5/site-packages/planet/api/models.py\u001b[0m in \u001b[0;36mget_body\u001b[0;34m(self)\u001b[0m\n\u001b[1;32m     43\u001b[0m         '''\n\u001b[1;32m     44\u001b[0m         \u001b[0;32mif\u001b[0m \u001b[0mself\u001b[0m\u001b[0;34m.\u001b[0m\u001b[0m_body\u001b[0m \u001b[0;32mis\u001b[0m \u001b[0;32mNone\u001b[0m\u001b[0;34m:\u001b[0m\u001b[0;34m\u001b[0m\u001b[0m\n\u001b[0;32m---> 45\u001b[0;31m             \u001b[0mresp\u001b[0m \u001b[0;34m=\u001b[0m \u001b[0mself\u001b[0m\u001b[0;34m.\u001b[0m\u001b[0m_dispatcher\u001b[0m\u001b[0;34m.\u001b[0m\u001b[0m_dispatch\u001b[0m\u001b[0;34m(\u001b[0m\u001b[0mself\u001b[0m\u001b[0;34m.\u001b[0m\u001b[0mrequest\u001b[0m\u001b[0;34m)\u001b[0m\u001b[0;34m\u001b[0m\u001b[0m\n\u001b[0m\u001b[1;32m     46\u001b[0m             \u001b[0mself\u001b[0m\u001b[0;34m.\u001b[0m\u001b[0m_body\u001b[0m \u001b[0;34m=\u001b[0m \u001b[0mself\u001b[0m\u001b[0;34m.\u001b[0m\u001b[0m_create_body\u001b[0m\u001b[0;34m(\u001b[0m\u001b[0mresp\u001b[0m\u001b[0;34m)\u001b[0m\u001b[0;34m\u001b[0m\u001b[0m\n\u001b[1;32m     47\u001b[0m         \u001b[0;32mreturn\u001b[0m \u001b[0mself\u001b[0m\u001b[0;34m.\u001b[0m\u001b[0m_body\u001b[0m\u001b[0;34m\u001b[0m\u001b[0m\n",
      "\u001b[0;32m~/notebooks/venvj/lib/python3.5/site-packages/planet/api/dispatch.py\u001b[0m in \u001b[0;36m_dispatch\u001b[0;34m(self, request, callback)\u001b[0m\n\u001b[1;32m    153\u001b[0m \u001b[0;34m\u001b[0m\u001b[0m\n\u001b[1;32m    154\u001b[0m     \u001b[0;32mdef\u001b[0m \u001b[0m_dispatch\u001b[0m\u001b[0;34m(\u001b[0m\u001b[0mself\u001b[0m\u001b[0;34m,\u001b[0m \u001b[0mrequest\u001b[0m\u001b[0;34m,\u001b[0m \u001b[0mcallback\u001b[0m\u001b[0;34m=\u001b[0m\u001b[0;32mNone\u001b[0m\u001b[0;34m)\u001b[0m\u001b[0;34m:\u001b[0m\u001b[0;34m\u001b[0m\u001b[0m\n\u001b[0;32m--> 155\u001b[0;31m         \u001b[0;32mreturn\u001b[0m \u001b[0m_do_request\u001b[0m\u001b[0;34m(\u001b[0m\u001b[0mself\u001b[0m\u001b[0;34m.\u001b[0m\u001b[0msession\u001b[0m\u001b[0;34m,\u001b[0m \u001b[0mrequest\u001b[0m\u001b[0;34m)\u001b[0m\u001b[0;34m\u001b[0m\u001b[0m\n\u001b[0m\u001b[1;32m    156\u001b[0m \u001b[0;34m\u001b[0m\u001b[0m\n\u001b[1;32m    157\u001b[0m     \u001b[0;31m# @todo delete me w/ v0 removal\u001b[0m\u001b[0;34m\u001b[0m\u001b[0;34m\u001b[0m\u001b[0m\n",
      "\u001b[0;32m~/notebooks/venvj/lib/python3.5/site-packages/planet/api/dispatch.py\u001b[0m in \u001b[0;36m_do_request\u001b[0;34m(sess, req, **kwargs)\u001b[0m\n\u001b[1;32m    123\u001b[0m             \u001b[0;31m# for futures these will be checked in the wrapper model\u001b[0m\u001b[0;34m\u001b[0m\u001b[0;34m\u001b[0m\u001b[0m\n\u001b[1;32m    124\u001b[0m             \u001b[0;32mif\u001b[0m \u001b[0mhasattr\u001b[0m\u001b[0;34m(\u001b[0m\u001b[0mresp\u001b[0m\u001b[0;34m,\u001b[0m \u001b[0;34m'status_code'\u001b[0m\u001b[0;34m)\u001b[0m\u001b[0;34m:\u001b[0m\u001b[0;34m\u001b[0m\u001b[0m\n\u001b[0;32m--> 125\u001b[0;31m                 \u001b[0mcheck_status\u001b[0m\u001b[0;34m(\u001b[0m\u001b[0mresp\u001b[0m\u001b[0;34m)\u001b[0m\u001b[0;34m\u001b[0m\u001b[0m\n\u001b[0m\u001b[1;32m    126\u001b[0m                 \u001b[0;31m# only log non-async calls\u001b[0m\u001b[0;34m\u001b[0m\u001b[0;34m\u001b[0m\u001b[0m\n\u001b[1;32m    127\u001b[0m                 \u001b[0mlog\u001b[0m\u001b[0;34m.\u001b[0m\u001b[0mdebug\u001b[0m\u001b[0;34m(\u001b[0m\u001b[0;34m'request took %.03f'\u001b[0m\u001b[0;34m,\u001b[0m \u001b[0mtime\u001b[0m\u001b[0;34m.\u001b[0m\u001b[0mtime\u001b[0m\u001b[0;34m(\u001b[0m\u001b[0;34m)\u001b[0m \u001b[0;34m-\u001b[0m \u001b[0mt\u001b[0m\u001b[0;34m)\u001b[0m\u001b[0;34m\u001b[0m\u001b[0m\n",
      "\u001b[0;32m~/notebooks/venvj/lib/python3.5/site-packages/planet/api/utils.py\u001b[0m in \u001b[0;36mcheck_status\u001b[0;34m(response)\u001b[0m\n\u001b[1;32m     88\u001b[0m \u001b[0;34m\u001b[0m\u001b[0m\n\u001b[1;32m     89\u001b[0m     \u001b[0;32mif\u001b[0m \u001b[0mexception\u001b[0m\u001b[0;34m:\u001b[0m\u001b[0;34m\u001b[0m\u001b[0m\n\u001b[0;32m---> 90\u001b[0;31m         \u001b[0;32mraise\u001b[0m \u001b[0mexception\u001b[0m\u001b[0;34m(\u001b[0m\u001b[0mresponse\u001b[0m\u001b[0;34m.\u001b[0m\u001b[0mtext\u001b[0m\u001b[0;34m)\u001b[0m\u001b[0;34m\u001b[0m\u001b[0m\n\u001b[0m\u001b[1;32m     91\u001b[0m \u001b[0;34m\u001b[0m\u001b[0m\n\u001b[1;32m     92\u001b[0m     \u001b[0;32mraise\u001b[0m \u001b[0mexceptions\u001b[0m\u001b[0;34m.\u001b[0m\u001b[0mAPIException\u001b[0m\u001b[0;34m(\u001b[0m\u001b[0;34m'%s: %s'\u001b[0m \u001b[0;34m%\u001b[0m \u001b[0;34m(\u001b[0m\u001b[0mstatus\u001b[0m\u001b[0;34m,\u001b[0m \u001b[0mresponse\u001b[0m\u001b[0;34m.\u001b[0m\u001b[0mtext\u001b[0m\u001b[0;34m)\u001b[0m\u001b[0;34m)\u001b[0m\u001b[0;34m\u001b[0m\u001b[0m\n",
      "\u001b[0;31mOverQuota\u001b[0m: {\"field\": {}, \"general\": [{\"message\": \"Download quota has been exceeded.\"}]}"
     ]
    }
   ],
   "source": [
    "activation = client.activate(assets['analytic'])\n",
    "activation.response.status_code"
   ]
  },
  {
   "cell_type": "markdown",
   "metadata": {},
   "source": [
    "A response of 202 means that the request has been accepted and the activation will begin shortly. A 204 code indicates that the asset is already active and no further action is needed. A 401 code means the user does not have permissions to download this file.\n",
    "\n",
    "Below, we are polling the API until the item is done activation. This may take awhile."
   ]
  },
  {
   "cell_type": "code",
   "execution_count": 19,
   "metadata": {},
   "outputs": [
    {
     "name": "stdout",
     "output_type": "stream",
     "text": [
      "...Still waiting for asset activation...\n",
      "...Still waiting for asset activation...\n",
      "...Still waiting for asset activation...\n",
      "...Still waiting for asset activation...\n",
      "...Still waiting for asset activation...\n",
      "...Still waiting for asset activation...\n",
      "...Still waiting for asset activation...\n",
      "...Still waiting for asset activation...\n",
      "...Still waiting for asset activation...\n",
      "...Still waiting for asset activation...\n",
      "...Still waiting for asset activation...\n",
      "...Still waiting for asset activation...\n",
      "...Still waiting for asset activation...\n",
      "...Still waiting for asset activation...\n",
      "...Still waiting for asset activation...\n",
      "...Still waiting for asset activation...\n",
      "...Still waiting for asset activation...\n",
      "...Still waiting for asset activation...\n",
      "...Still waiting for asset activation...\n",
      "...Still waiting for asset activation...\n",
      "...Still waiting for asset activation...\n",
      "...Still waiting for asset activation...\n",
      "...Still waiting for asset activation...\n",
      "...Still waiting for asset activation...\n",
      "...Still waiting for asset activation...\n",
      "...Still waiting for asset activation...\n",
      "...Still waiting for asset activation...\n",
      "...Still waiting for asset activation...\n",
      "...Still waiting for asset activation...\n",
      "...Still waiting for asset activation...\n",
      "...Still waiting for asset activation...\n",
      "...Still waiting for asset activation...\n",
      "...Still waiting for asset activation...\n",
      "...Still waiting for asset activation...\n",
      "...Still waiting for asset activation...\n",
      "...Still waiting for asset activation...\n",
      "...Still waiting for asset activation...\n",
      "...Still waiting for asset activation...\n",
      "...Still waiting for asset activation...\n",
      "...Still waiting for asset activation...\n",
      "...Still waiting for asset activation...\n",
      "...Still waiting for asset activation...\n",
      "...Still waiting for asset activation...\n",
      "...Still waiting for asset activation...\n",
      "...Still waiting for asset activation...\n",
      "...Still waiting for asset activation...\n",
      "...Still waiting for asset activation...\n",
      "...Still waiting for asset activation...\n",
      "...Still waiting for asset activation...\n",
      "...Still waiting for asset activation...\n",
      "...Still waiting for asset activation...\n",
      "...Still waiting for asset activation...\n",
      "...Still waiting for asset activation...\n",
      "...Still waiting for asset activation...\n",
      "...Still waiting for asset activation...\n",
      "...Still waiting for asset activation...\n",
      "...Still waiting for asset activation...\n",
      "...Still waiting for asset activation...\n",
      "...Still waiting for asset activation...\n",
      "...Still waiting for asset activation...\n",
      "...Still waiting for asset activation...\n",
      "...Still waiting for asset activation...\n",
      "...Still waiting for asset activation...\n",
      "...Still waiting for asset activation...\n",
      "...Still waiting for asset activation...\n",
      "...Still waiting for asset activation...\n",
      "...Still waiting for asset activation...\n",
      "...Still waiting for asset activation...\n",
      "...Still waiting for asset activation...\n",
      "...Still waiting for asset activation...\n",
      "...Still waiting for asset activation...\n",
      "...Still waiting for asset activation...\n",
      "...Still waiting for asset activation...\n",
      "...Still waiting for asset activation...\n",
      "...Still waiting for asset activation...\n",
      "...Still waiting for asset activation...\n",
      "...Still waiting for asset activation...\n",
      "...Still waiting for asset activation...\n",
      "...Still waiting for asset activation...\n",
      "...Still waiting for asset activation...\n",
      "...Still waiting for asset activation...\n",
      "...Still waiting for asset activation...\n",
      "...Still waiting for asset activation...\n",
      "...Still waiting for asset activation...\n",
      "...Still waiting for asset activation...\n",
      "...Still waiting for asset activation...\n",
      "...Still waiting for asset activation...\n",
      "...Still waiting for asset activation...\n",
      "...Still waiting for asset activation...\n",
      "...Still waiting for asset activation...\n",
      "...Still waiting for asset activation...\n",
      "...Still waiting for asset activation...\n",
      "...Still waiting for asset activation...\n",
      "...Still waiting for asset activation...\n",
      "...Still waiting for asset activation...\n",
      "...Still waiting for asset activation...\n",
      "...Still waiting for asset activation...\n",
      "...Still waiting for asset activation...\n",
      "...Still waiting for asset activation...\n",
      "...Still waiting for asset activation...\n",
      "...Still waiting for asset activation...\n",
      "...Still waiting for asset activation...\n",
      "...Still waiting for asset activation...\n",
      "...Still waiting for asset activation...\n",
      "Asset is active and ready to download\n"
     ]
    }
   ],
   "source": [
    "import time\n",
    "\n",
    "asset_activated = False\n",
    "\n",
    "while asset_activated == False:\n",
    "    \n",
    "    # Get asset and its activation status\n",
    "    assets = client.get_assets(item).get()\n",
    "    asset = assets.get('analytic')\n",
    "    asset_status = asset[\"status\"]\n",
    "    \n",
    "    # If asset is already active, we are done\n",
    "    if asset_status == 'active':\n",
    "        asset_activated = True\n",
    "        print(\"Asset is active and ready to download\")\n",
    "   \n",
    "    # Still activating. Wait and check again.\n",
    "    else:\n",
    "        print(\"...Still waiting for asset activation...\")\n",
    "        time.sleep(3)"
   ]
  },
  {
   "cell_type": "code",
   "execution_count": 20,
   "metadata": {},
   "outputs": [
    {
     "data": {
      "text/plain": [
       "<planet.api.models.Body at 0x7f6f0e06d668>"
      ]
     },
     "execution_count": 20,
     "metadata": {},
     "output_type": "execute_result"
    }
   ],
   "source": [
    "callback = api.write_to_file(directory='output/')\n",
    "body = client.download(assets['analytic_xml'], callback=callback)\n",
    "body.await()"
   ]
  },
  {
   "cell_type": "markdown",
   "metadata": {},
   "source": [
    "## Saved Searches\n",
    "\n",
    "The Python API client can also help in managing saved searches on the Planet Platform."
   ]
  },
  {
   "cell_type": "code",
   "execution_count": 19,
   "metadata": {},
   "outputs": [],
   "source": [
    "searches = client.get_searches()"
   ]
  },
  {
   "cell_type": "code",
   "execution_count": 20,
   "metadata": {},
   "outputs": [],
   "source": [
    "for search in searches.items_iter(100):\n",
    "    print(search['id'], search['name'])"
   ]
  },
  {
   "cell_type": "code",
   "execution_count": 21,
   "metadata": {},
   "outputs": [
    {
     "ename": "NameError",
     "evalue": "name 'geom' is not defined",
     "output_type": "error",
     "traceback": [
      "\u001b[0;31m---------------------------------------------------------------------------\u001b[0m",
      "\u001b[0;31mNameError\u001b[0m                                 Traceback (most recent call last)",
      "\u001b[0;32m<ipython-input-21-b1a7b1570495>\u001b[0m in \u001b[0;36m<module>\u001b[0;34m\u001b[0m\n\u001b[1;32m      1\u001b[0m \u001b[0mitem_types\u001b[0m \u001b[0;34m=\u001b[0m \u001b[0;34m[\u001b[0m\u001b[0;34m\"PSScene3Band\"\u001b[0m\u001b[0;34m]\u001b[0m\u001b[0;34m\u001b[0m\u001b[0m\n\u001b[0;32m----> 2\u001b[0;31m \u001b[0msan_francisco_filter\u001b[0m \u001b[0;34m=\u001b[0m \u001b[0mfilters\u001b[0m\u001b[0;34m.\u001b[0m\u001b[0mgeom_filter\u001b[0m\u001b[0;34m(\u001b[0m\u001b[0mgeom\u001b[0m\u001b[0;34m)\u001b[0m\u001b[0;34m\u001b[0m\u001b[0m\n\u001b[0m\u001b[1;32m      3\u001b[0m \u001b[0mreq\u001b[0m \u001b[0;34m=\u001b[0m \u001b[0mfilters\u001b[0m\u001b[0;34m.\u001b[0m\u001b[0mbuild_search_request\u001b[0m\u001b[0;34m(\u001b[0m\u001b[0msan_francisco_filter\u001b[0m\u001b[0;34m,\u001b[0m \u001b[0mitem_types\u001b[0m\u001b[0;34m,\u001b[0m \u001b[0mname\u001b[0m\u001b[0;34m=\u001b[0m\u001b[0;34m\"San Francisco\"\u001b[0m\u001b[0;34m)\u001b[0m\u001b[0;34m\u001b[0m\u001b[0m\n",
      "\u001b[0;31mNameError\u001b[0m: name 'geom' is not defined"
     ]
    }
   ],
   "source": [
    "item_types = [\"PSScene3Band\"]\n",
    "san_francisco_filter = filters.geom_filter(geom)\n",
    "req = filters.build_search_request(san_francisco_filter, item_types, name=\"San Francisco\")"
   ]
  },
  {
   "cell_type": "code",
   "execution_count": 22,
   "metadata": {},
   "outputs": [
    {
     "name": "stdout",
     "output_type": "stream",
     "text": [
      "{\n",
      "  \"filter\": {\n",
      "    \"type\": \"AndFilter\",\n",
      "    \"config\": [\n",
      "      {\n",
      "        \"type\": \"DateRangeFilter\",\n",
      "        \"field_name\": \"acquired\",\n",
      "        \"config\": {\n",
      "          \"gte\": \"2017-01-01T00:00:00Z\"\n",
      "        }\n",
      "      },\n",
      "      {\n",
      "        \"type\": \"RangeFilter\",\n",
      "        \"field_name\": \"cloud_cover\",\n",
      "        \"config\": {\n",
      "          \"lte\": 0.1\n",
      "        }\n",
      "      }\n",
      "    ]\n",
      "  },\n",
      "  \"item_types\": [\n",
      "    \"REOrthoTile\",\n",
      "    \"PSOrthoTile\"\n",
      "  ]\n",
      "}\n"
     ]
    }
   ],
   "source": [
    "p(req)"
   ]
  },
  {
   "cell_type": "code",
   "execution_count": 25,
   "metadata": {},
   "outputs": [],
   "source": [
    "res = client.create_search(req)"
   ]
  },
  {
   "cell_type": "code",
   "execution_count": 26,
   "metadata": {},
   "outputs": [
    {
     "name": "stdout",
     "output_type": "stream",
     "text": [
      "f1d47dd8eb00453da94cf5f0d690bb10 San Francisco\n"
     ]
    }
   ],
   "source": [
    "search = res.get()\n",
    "print(search[\"id\"], search[\"name\"])"
   ]
  },
  {
   "cell_type": "code",
   "execution_count": 27,
   "metadata": {},
   "outputs": [],
   "source": [
    "res = client.saved_search(search[\"id\"])"
   ]
  },
  {
   "cell_type": "code",
   "execution_count": 28,
   "metadata": {},
   "outputs": [
    {
     "name": "stdout",
     "output_type": "stream",
     "text": [
      "20180926_181023_0f40 0\n",
      "20180926_181022_0f40 0\n",
      "20180926_181024_0f40 0\n",
      "20180926_182749_1018 0.5\n",
      "20180926_182750_1018 0.5\n",
      "20180926_182747_1018 0.5\n",
      "20180925_181112_100d 0.2\n",
      "20180925_181113_100d 0.2\n",
      "20180925_181115_100d 0.2\n",
      "20180925_213151_0f02 0\n",
      "20180925_213153_0f02 0\n",
      "20180925_181114_100d 0.1\n",
      "20180925_213152_0f02 0\n",
      "20180925_182742_0f34 1.3\n",
      "20180925_182741_0f34 1.3\n",
      "20180925_182743_0f34 1.2\n",
      "20180924_182734_101e 0.1\n",
      "20180924_182736_101e 0.1\n",
      "20180924_182735_101e 0.1\n",
      "20180923_213329_0f4c 0\n"
     ]
    }
   ],
   "source": [
    "for item in res.items_iter(20):\n",
    "    print(item[\"id\"], item[\"properties\"][\"view_angle\"])"
   ]
  },
  {
   "cell_type": "markdown",
   "metadata": {},
   "source": [
    "# Statistics\n",
    "\n",
    "The Python API client can also help report statistical summaries of the amount of data in the Planet API."
   ]
  },
  {
   "cell_type": "code",
   "execution_count": 29,
   "metadata": {},
   "outputs": [],
   "source": [
    "item_types = [\"PSScene3Band\"]\n",
    "san_francisco_filter = filters.geom_filter(geom)\n",
    "req = filters.build_search_request(san_francisco_filter, item_types, interval=\"year\")"
   ]
  },
  {
   "cell_type": "code",
   "execution_count": 30,
   "metadata": {},
   "outputs": [],
   "source": [
    "stats = client.stats(req).get()"
   ]
  },
  {
   "cell_type": "code",
   "execution_count": 31,
   "metadata": {},
   "outputs": [
    {
     "name": "stdout",
     "output_type": "stream",
     "text": [
      "{\n",
      "  \"utc_offset\": \"+0h\",\n",
      "  \"interval\": \"year\",\n",
      "  \"buckets\": [\n",
      "    {\n",
      "      \"count\": 3,\n",
      "      \"start_time\": \"2014-01-01T00:00:00.000000Z\"\n",
      "    },\n",
      "    {\n",
      "      \"count\": 54,\n",
      "      \"start_time\": \"2015-01-01T00:00:00.000000Z\"\n",
      "    },\n",
      "    {\n",
      "      \"count\": 204,\n",
      "      \"start_time\": \"2016-01-01T00:00:00.000000Z\"\n",
      "    },\n",
      "    {\n",
      "      \"count\": 1083,\n",
      "      \"start_time\": \"2017-01-01T00:00:00.000000Z\"\n",
      "    },\n",
      "    {\n",
      "      \"count\": 1207,\n",
      "      \"start_time\": \"2018-01-01T00:00:00.000000Z\"\n",
      "    }\n",
      "  ]\n",
      "}\n"
     ]
    }
   ],
   "source": [
    "p(stats)"
   ]
  },
  {
   "cell_type": "code",
   "execution_count": 32,
   "metadata": {},
   "outputs": [],
   "source": [
    "assets = client.get_assets(item)"
   ]
  },
  {
   "cell_type": "code",
   "execution_count": 33,
   "metadata": {},
   "outputs": [],
   "source": [
    "assets.last_modified()"
   ]
  },
  {
   "cell_type": "code",
   "execution_count": 34,
   "metadata": {},
   "outputs": [
    {
     "data": {
      "text/plain": [
       "{'analytic': {'_links': {'_self': 'https://api.planet.com/data/v1/assets/eyJpIjogIjIwMTgwOTIzXzIxMzMyOV8wZjRjIiwgImMiOiAiUFNTY2VuZTNCYW5kIiwgInQiOiAiYW5hbHl0aWMiLCAiY3QiOiAiaXRlbS10eXBlIn0',\n",
       "   'activate': 'https://api.planet.com/data/v1/assets/eyJpIjogIjIwMTgwOTIzXzIxMzMyOV8wZjRjIiwgImMiOiAiUFNTY2VuZTNCYW5kIiwgInQiOiAiYW5hbHl0aWMiLCAiY3QiOiAiaXRlbS10eXBlIn0/activate',\n",
       "   'type': 'https://api.planet.com/data/v1/asset-types/analytic'},\n",
       "  '_permissions': ['download'],\n",
       "  'md5_digest': None,\n",
       "  'status': 'inactive',\n",
       "  'type': 'analytic'},\n",
       " 'analytic_dn': {'_links': {'_self': 'https://api.planet.com/data/v1/assets/eyJpIjogIjIwMTgwOTIzXzIxMzMyOV8wZjRjIiwgImMiOiAiUFNTY2VuZTNCYW5kIiwgInQiOiAiYW5hbHl0aWNfZG4iLCAiY3QiOiAiaXRlbS10eXBlIn0',\n",
       "   'activate': 'https://api.planet.com/data/v1/assets/eyJpIjogIjIwMTgwOTIzXzIxMzMyOV8wZjRjIiwgImMiOiAiUFNTY2VuZTNCYW5kIiwgInQiOiAiYW5hbHl0aWNfZG4iLCAiY3QiOiAiaXRlbS10eXBlIn0/activate',\n",
       "   'type': 'https://api.planet.com/data/v1/asset-types/analytic_dn'},\n",
       "  '_permissions': ['download'],\n",
       "  'md5_digest': None,\n",
       "  'status': 'inactive',\n",
       "  'type': 'analytic_dn'},\n",
       " 'analytic_dn_xml': {'_links': {'_self': 'https://api.planet.com/data/v1/assets/eyJpIjogIjIwMTgwOTIzXzIxMzMyOV8wZjRjIiwgImMiOiAiUFNTY2VuZTNCYW5kIiwgInQiOiAiYW5hbHl0aWNfZG5feG1sIiwgImN0IjogIml0ZW0tdHlwZSJ9',\n",
       "   'activate': 'https://api.planet.com/data/v1/assets/eyJpIjogIjIwMTgwOTIzXzIxMzMyOV8wZjRjIiwgImMiOiAiUFNTY2VuZTNCYW5kIiwgInQiOiAiYW5hbHl0aWNfZG5feG1sIiwgImN0IjogIml0ZW0tdHlwZSJ9/activate',\n",
       "   'type': 'https://api.planet.com/data/v1/asset-types/analytic_dn_xml'},\n",
       "  '_permissions': ['download'],\n",
       "  'md5_digest': None,\n",
       "  'status': 'inactive',\n",
       "  'type': 'analytic_dn_xml'},\n",
       " 'analytic_xml': {'_links': {'_self': 'https://api.planet.com/data/v1/assets/eyJpIjogIjIwMTgwOTIzXzIxMzMyOV8wZjRjIiwgImMiOiAiUFNTY2VuZTNCYW5kIiwgInQiOiAiYW5hbHl0aWNfeG1sIiwgImN0IjogIml0ZW0tdHlwZSJ9',\n",
       "   'activate': 'https://api.planet.com/data/v1/assets/eyJpIjogIjIwMTgwOTIzXzIxMzMyOV8wZjRjIiwgImMiOiAiUFNTY2VuZTNCYW5kIiwgInQiOiAiYW5hbHl0aWNfeG1sIiwgImN0IjogIml0ZW0tdHlwZSJ9/activate',\n",
       "   'type': 'https://api.planet.com/data/v1/asset-types/analytic_xml'},\n",
       "  '_permissions': ['download'],\n",
       "  'md5_digest': None,\n",
       "  'status': 'inactive',\n",
       "  'type': 'analytic_xml'},\n",
       " 'basic_analytic': {'_links': {'_self': 'https://api.planet.com/data/v1/assets/eyJpIjogIjIwMTgwOTIzXzIxMzMyOV8wZjRjIiwgImMiOiAiUFNTY2VuZTNCYW5kIiwgInQiOiAiYmFzaWNfYW5hbHl0aWMiLCAiY3QiOiAiaXRlbS10eXBlIn0',\n",
       "   'activate': 'https://api.planet.com/data/v1/assets/eyJpIjogIjIwMTgwOTIzXzIxMzMyOV8wZjRjIiwgImMiOiAiUFNTY2VuZTNCYW5kIiwgInQiOiAiYmFzaWNfYW5hbHl0aWMiLCAiY3QiOiAiaXRlbS10eXBlIn0/activate',\n",
       "   'type': 'https://api.planet.com/data/v1/asset-types/basic_analytic'},\n",
       "  '_permissions': ['download'],\n",
       "  'md5_digest': None,\n",
       "  'status': 'inactive',\n",
       "  'type': 'basic_analytic'},\n",
       " 'basic_analytic_dn': {'_links': {'_self': 'https://api.planet.com/data/v1/assets/eyJpIjogIjIwMTgwOTIzXzIxMzMyOV8wZjRjIiwgImMiOiAiUFNTY2VuZTNCYW5kIiwgInQiOiAiYmFzaWNfYW5hbHl0aWNfZG4iLCAiY3QiOiAiaXRlbS10eXBlIn0',\n",
       "   'activate': 'https://api.planet.com/data/v1/assets/eyJpIjogIjIwMTgwOTIzXzIxMzMyOV8wZjRjIiwgImMiOiAiUFNTY2VuZTNCYW5kIiwgInQiOiAiYmFzaWNfYW5hbHl0aWNfZG4iLCAiY3QiOiAiaXRlbS10eXBlIn0/activate',\n",
       "   'type': 'https://api.planet.com/data/v1/asset-types/basic_analytic_dn'},\n",
       "  '_permissions': ['download'],\n",
       "  'md5_digest': None,\n",
       "  'status': 'inactive',\n",
       "  'type': 'basic_analytic_dn'},\n",
       " 'basic_analytic_dn_rpc': {'_links': {'_self': 'https://api.planet.com/data/v1/assets/eyJpIjogIjIwMTgwOTIzXzIxMzMyOV8wZjRjIiwgImMiOiAiUFNTY2VuZTNCYW5kIiwgInQiOiAiYmFzaWNfYW5hbHl0aWNfZG5fcnBjIiwgImN0IjogIml0ZW0tdHlwZSJ9',\n",
       "   'activate': 'https://api.planet.com/data/v1/assets/eyJpIjogIjIwMTgwOTIzXzIxMzMyOV8wZjRjIiwgImMiOiAiUFNTY2VuZTNCYW5kIiwgInQiOiAiYmFzaWNfYW5hbHl0aWNfZG5fcnBjIiwgImN0IjogIml0ZW0tdHlwZSJ9/activate',\n",
       "   'type': 'https://api.planet.com/data/v1/asset-types/basic_analytic_dn_rpc'},\n",
       "  '_permissions': ['download'],\n",
       "  'md5_digest': None,\n",
       "  'status': 'inactive',\n",
       "  'type': 'basic_analytic_dn_rpc'},\n",
       " 'basic_analytic_dn_xml': {'_links': {'_self': 'https://api.planet.com/data/v1/assets/eyJpIjogIjIwMTgwOTIzXzIxMzMyOV8wZjRjIiwgImMiOiAiUFNTY2VuZTNCYW5kIiwgInQiOiAiYmFzaWNfYW5hbHl0aWNfZG5feG1sIiwgImN0IjogIml0ZW0tdHlwZSJ9',\n",
       "   'activate': 'https://api.planet.com/data/v1/assets/eyJpIjogIjIwMTgwOTIzXzIxMzMyOV8wZjRjIiwgImMiOiAiUFNTY2VuZTNCYW5kIiwgInQiOiAiYmFzaWNfYW5hbHl0aWNfZG5feG1sIiwgImN0IjogIml0ZW0tdHlwZSJ9/activate',\n",
       "   'type': 'https://api.planet.com/data/v1/asset-types/basic_analytic_dn_xml'},\n",
       "  '_permissions': ['download'],\n",
       "  'md5_digest': None,\n",
       "  'status': 'inactive',\n",
       "  'type': 'basic_analytic_dn_xml'},\n",
       " 'basic_analytic_rpc': {'_links': {'_self': 'https://api.planet.com/data/v1/assets/eyJpIjogIjIwMTgwOTIzXzIxMzMyOV8wZjRjIiwgImMiOiAiUFNTY2VuZTNCYW5kIiwgInQiOiAiYmFzaWNfYW5hbHl0aWNfcnBjIiwgImN0IjogIml0ZW0tdHlwZSJ9',\n",
       "   'activate': 'https://api.planet.com/data/v1/assets/eyJpIjogIjIwMTgwOTIzXzIxMzMyOV8wZjRjIiwgImMiOiAiUFNTY2VuZTNCYW5kIiwgInQiOiAiYmFzaWNfYW5hbHl0aWNfcnBjIiwgImN0IjogIml0ZW0tdHlwZSJ9/activate',\n",
       "   'type': 'https://api.planet.com/data/v1/asset-types/basic_analytic_rpc'},\n",
       "  '_permissions': ['download'],\n",
       "  'md5_digest': None,\n",
       "  'status': 'inactive',\n",
       "  'type': 'basic_analytic_rpc'},\n",
       " 'basic_analytic_xml': {'_links': {'_self': 'https://api.planet.com/data/v1/assets/eyJpIjogIjIwMTgwOTIzXzIxMzMyOV8wZjRjIiwgImMiOiAiUFNTY2VuZTNCYW5kIiwgInQiOiAiYmFzaWNfYW5hbHl0aWNfeG1sIiwgImN0IjogIml0ZW0tdHlwZSJ9',\n",
       "   'activate': 'https://api.planet.com/data/v1/assets/eyJpIjogIjIwMTgwOTIzXzIxMzMyOV8wZjRjIiwgImMiOiAiUFNTY2VuZTNCYW5kIiwgInQiOiAiYmFzaWNfYW5hbHl0aWNfeG1sIiwgImN0IjogIml0ZW0tdHlwZSJ9/activate',\n",
       "   'type': 'https://api.planet.com/data/v1/asset-types/basic_analytic_xml'},\n",
       "  '_permissions': ['download'],\n",
       "  'md5_digest': None,\n",
       "  'status': 'inactive',\n",
       "  'type': 'basic_analytic_xml'},\n",
       " 'basic_udm': {'_links': {'_self': 'https://api.planet.com/data/v1/assets/eyJpIjogIjIwMTgwOTIzXzIxMzMyOV8wZjRjIiwgImMiOiAiUFNTY2VuZTNCYW5kIiwgInQiOiAiYmFzaWNfdWRtIiwgImN0IjogIml0ZW0tdHlwZSJ9',\n",
       "   'activate': 'https://api.planet.com/data/v1/assets/eyJpIjogIjIwMTgwOTIzXzIxMzMyOV8wZjRjIiwgImMiOiAiUFNTY2VuZTNCYW5kIiwgInQiOiAiYmFzaWNfdWRtIiwgImN0IjogIml0ZW0tdHlwZSJ9/activate',\n",
       "   'type': 'https://api.planet.com/data/v1/asset-types/basic_udm'},\n",
       "  '_permissions': ['download'],\n",
       "  'md5_digest': None,\n",
       "  'status': 'inactive',\n",
       "  'type': 'basic_udm'},\n",
       " 'udm': {'_links': {'_self': 'https://api.planet.com/data/v1/assets/eyJpIjogIjIwMTgwOTIzXzIxMzMyOV8wZjRjIiwgImMiOiAiUFNTY2VuZTNCYW5kIiwgInQiOiAidWRtIiwgImN0IjogIml0ZW0tdHlwZSJ9',\n",
       "   'activate': 'https://api.planet.com/data/v1/assets/eyJpIjogIjIwMTgwOTIzXzIxMzMyOV8wZjRjIiwgImMiOiAiUFNTY2VuZTNCYW5kIiwgInQiOiAidWRtIiwgImN0IjogIml0ZW0tdHlwZSJ9/activate',\n",
       "   'type': 'https://api.planet.com/data/v1/asset-types/udm'},\n",
       "  '_permissions': ['download'],\n",
       "  'md5_digest': None,\n",
       "  'status': 'inactive',\n",
       "  'type': 'udm'},\n",
       " 'visual': {'_links': {'_self': 'https://api.planet.com/data/v1/assets/eyJpIjogIjIwMTgwOTIzXzIxMzMyOV8wZjRjIiwgImMiOiAiUFNTY2VuZTNCYW5kIiwgInQiOiAidmlzdWFsIiwgImN0IjogIml0ZW0tdHlwZSJ9',\n",
       "   'activate': 'https://api.planet.com/data/v1/assets/eyJpIjogIjIwMTgwOTIzXzIxMzMyOV8wZjRjIiwgImMiOiAiUFNTY2VuZTNCYW5kIiwgInQiOiAidmlzdWFsIiwgImN0IjogIml0ZW0tdHlwZSJ9/activate',\n",
       "   'type': 'https://api.planet.com/data/v1/asset-types/visual'},\n",
       "  '_permissions': ['download'],\n",
       "  'md5_digest': None,\n",
       "  'status': 'inactive',\n",
       "  'type': 'visual'},\n",
       " 'visual_xml': {'_links': {'_self': 'https://api.planet.com/data/v1/assets/eyJpIjogIjIwMTgwOTIzXzIxMzMyOV8wZjRjIiwgImMiOiAiUFNTY2VuZTNCYW5kIiwgInQiOiAidmlzdWFsX3htbCIsICJjdCI6ICJpdGVtLXR5cGUifQ',\n",
       "   'activate': 'https://api.planet.com/data/v1/assets/eyJpIjogIjIwMTgwOTIzXzIxMzMyOV8wZjRjIiwgImMiOiAiUFNTY2VuZTNCYW5kIiwgInQiOiAidmlzdWFsX3htbCIsICJjdCI6ICJpdGVtLXR5cGUifQ/activate',\n",
       "   'type': 'https://api.planet.com/data/v1/asset-types/visual_xml'},\n",
       "  '_permissions': ['download'],\n",
       "  'md5_digest': None,\n",
       "  'status': 'inactive',\n",
       "  'type': 'visual_xml'}}"
      ]
     },
     "execution_count": 34,
     "metadata": {},
     "output_type": "execute_result"
    }
   ],
   "source": [
    "assets.get()"
   ]
  },
  {
   "cell_type": "code",
   "execution_count": null,
   "metadata": {},
   "outputs": [],
   "source": []
  }
 ],
 "metadata": {
  "kernelspec": {
   "display_name": "Python 3",
   "language": "python",
   "name": "python3"
  },
  "language_info": {
   "codemirror_mode": {
    "name": "ipython",
    "version": 3
   },
   "file_extension": ".py",
   "mimetype": "text/x-python",
   "name": "python",
   "nbconvert_exporter": "python",
   "pygments_lexer": "ipython3",
   "version": "3.5.2"
  }
 },
 "nbformat": 4,
 "nbformat_minor": 1
}
